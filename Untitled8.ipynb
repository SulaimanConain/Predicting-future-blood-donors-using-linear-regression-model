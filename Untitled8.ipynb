{
 "cells": [
  {
   "cell_type": "code",
   "execution_count": 14,
   "id": "17b5f64e",
   "metadata": {},
   "outputs": [],
   "source": [
    "import random\n",
    "from faker import Faker\n",
    "import pandas as pd\n",
    "from sklearn.preprocessing import LabelEncoder\n",
    "from sklearn.model_selection import train_test_split\n",
    "from sklearn.linear_model import LinearRegression\n",
    "from sklearn.metrics import mean_squared_error, mean_absolute_error, r2_score\n",
    "\n",
    "# Initialize the Faker object\n",
    "fake = Faker()\n",
    "\n",
    "# Create an empty list to store the data\n",
    "data = []\n",
    "\n",
    "# Generate data for 100 employees\n",
    "for i in range(100):\n",
    "    # Generate a random name\n",
    "    name = fake.name()\n",
    "    # Generate a random age between 18 and 60\n",
    "    age = random.randint(18, 60)\n",
    "    # Generate a random gender\n",
    "    gender = random.choice(['male', 'female'])\n",
    "    # Generate a random number of previous donations between 0 and 5\n",
    "    previous_donations = random.randint(0, 5)\n",
    "    # Generate random attendance of blood donation camp\n",
    "    attended_donation = random.choice([0,1])\n",
    "    data.append([name, age, gender, previous_donations,attended_donation])\n",
    "\n",
    "# Convert the data to a pandas DataFrame\n",
    "df = pd.DataFrame(data, columns=[\"name\", \"age\", \"gender\", \"previous_donations\",\"attended_donation\"])\n"
   ]
  },
  {
   "cell_type": "code",
   "execution_count": 15,
   "id": "91593212",
   "metadata": {},
   "outputs": [
    {
     "name": "stdout",
     "output_type": "stream",
     "text": [
      "Mean Squared Error: 0.24619920474606483\n",
      "Mean Absolute Error: 0.49001111417784793\n",
      "R-squared: -0.025830019775269886\n",
      "Predicted probability of attendance: [0.4522327]\n",
      "The employee is not likely to attend the blood donation camp\n"
     ]
    }
   ],
   "source": [
    "# Encode the 'gender' column\n",
    "le = LabelEncoder()\n",
    "df['gender'] = le.fit_transform(df['gender'])\n",
    "\n",
    "# One-hot encode the 'gender' column\n",
    "df = pd.get_dummies(df, columns=[\"gender\"])\n",
    "\n",
    "# Saving the generated data to csv file\n",
    "df.to_csv(\"blood_donation_data.csv\",index=False)\n",
    "\n",
    "# Split the data into training and testing sets\n",
    "X = df.drop(columns = ['attended_donation','name'])\n",
    "y = df['attended_donation']\n",
    "X_train, X_test, y_train, y_test = train_test_split(X, y, test_size=0.2)\n",
    "\n",
    "# Train the model\n",
    "lin_reg = LinearRegression()\n",
    "lin_reg.fit(X_train, y_train)\n",
    "\n",
    "# Evaluate\n",
    "y_pred = lin_reg.predict(X_test)\n",
    "mse = mean_squared_error(y_test, y_pred)\n",
    "mae = mean_absolute_error(y_test, y_pred)\n",
    "r2 = r2_score(y_test, y_pred)\n",
    "\n",
    "print(\"Mean Squared Error:\", mse)\n",
    "print(\"Mean Absolute Error:\", mae)\n",
    "print(\"R-squared:\", r2)\n",
    "\n",
    "# Create new data for prediction\n",
    "new_data = [[40, 0, 1, 3]] # This is an example, replace with actual data 40 is the age of the employee, 0 is the gender of the employee, where 0 represents male and 1 represents female, 1 is the number of previous donations of the employee ,3 is the number of times the employee has attended the blood donation camp in the past.\n",
    "\n",
    "# Make predictions\n",
    "predicted_prob = lin_reg.predict(new_data)\n",
    "print(\"Predicted probability of attendance:\", predicted_prob)\n",
    "\n",
    "# You can use a threshold value to decide if the employee is likely to attend the blood donation camp or not\n",
    "# For example, if the predicted probability is greater than 0.5, then the employee is likely to attend\n",
    "threshold = 0.5\n",
    "if predicted_prob > threshold:\n",
    "    print(\"The employee is likely to attend the blood donation camp\")\n",
    "else:\n",
    "    print(\"The employee is not likely to attend the blood donation camp\")\n"
   ]
  },
  {
   "cell_type": "code",
   "execution_count": null,
   "id": "39b6ab9a",
   "metadata": {},
   "outputs": [],
   "source": [
    "#note column gender_0 = male and gender_1 = female"
   ]
  }
 ],
 "metadata": {
  "kernelspec": {
   "display_name": "Python 3",
   "language": "python",
   "name": "python3"
  },
  "language_info": {
   "codemirror_mode": {
    "name": "ipython",
    "version": 3
   },
   "file_extension": ".py",
   "mimetype": "text/x-python",
   "name": "python",
   "nbconvert_exporter": "python",
   "pygments_lexer": "ipython3",
   "version": "3.8.8"
  }
 },
 "nbformat": 4,
 "nbformat_minor": 5
}
